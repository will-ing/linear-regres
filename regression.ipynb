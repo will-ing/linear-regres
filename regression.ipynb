{
 "cells": [
  {
   "cell_type": "code",
   "execution_count": 95,
   "metadata": {},
   "outputs": [],
   "source": [
    "import numpy as np\n",
    "import pandas as pd\n",
    "import scipy.stats as stats\n",
    "import matplotlib.pyplot as plt\n",
    "from sklearn.linear_model import LinearRegression\n",
    "from sklearn.model_selection import train_test_split\n",
    "import datetime as dt\n"
   ]
  },
  {
   "cell_type": "code",
   "execution_count": 89,
   "metadata": {},
   "outputs": [
    {
     "output_type": "execute_result",
     "data": {
      "text/plain": "                  date symbol        open       close         low        high  \\\n0  2016-01-05 00:00:00   WLTW  123.430000  125.839996  122.309998  126.250000   \n1  2016-01-06 00:00:00   WLTW  125.239998  119.980003  119.940002  125.540001   \n2  2016-01-07 00:00:00   WLTW  116.379997  114.949997  114.930000  119.739998   \n3  2016-01-08 00:00:00   WLTW  115.480003  116.620003  113.500000  117.440002   \n4  2016-01-11 00:00:00   WLTW  117.010002  114.970001  114.089996  117.330002   \n\n      volume  \n0  2163600.0  \n1  2386400.0  \n2  2489500.0  \n3  2006300.0  \n4  1408600.0  ",
      "text/html": "<div>\n<style scoped>\n    .dataframe tbody tr th:only-of-type {\n        vertical-align: middle;\n    }\n\n    .dataframe tbody tr th {\n        vertical-align: top;\n    }\n\n    .dataframe thead th {\n        text-align: right;\n    }\n</style>\n<table border=\"1\" class=\"dataframe\">\n  <thead>\n    <tr style=\"text-align: right;\">\n      <th></th>\n      <th>date</th>\n      <th>symbol</th>\n      <th>open</th>\n      <th>close</th>\n      <th>low</th>\n      <th>high</th>\n      <th>volume</th>\n    </tr>\n  </thead>\n  <tbody>\n    <tr>\n      <th>0</th>\n      <td>2016-01-05 00:00:00</td>\n      <td>WLTW</td>\n      <td>123.430000</td>\n      <td>125.839996</td>\n      <td>122.309998</td>\n      <td>126.250000</td>\n      <td>2163600.0</td>\n    </tr>\n    <tr>\n      <th>1</th>\n      <td>2016-01-06 00:00:00</td>\n      <td>WLTW</td>\n      <td>125.239998</td>\n      <td>119.980003</td>\n      <td>119.940002</td>\n      <td>125.540001</td>\n      <td>2386400.0</td>\n    </tr>\n    <tr>\n      <th>2</th>\n      <td>2016-01-07 00:00:00</td>\n      <td>WLTW</td>\n      <td>116.379997</td>\n      <td>114.949997</td>\n      <td>114.930000</td>\n      <td>119.739998</td>\n      <td>2489500.0</td>\n    </tr>\n    <tr>\n      <th>3</th>\n      <td>2016-01-08 00:00:00</td>\n      <td>WLTW</td>\n      <td>115.480003</td>\n      <td>116.620003</td>\n      <td>113.500000</td>\n      <td>117.440002</td>\n      <td>2006300.0</td>\n    </tr>\n    <tr>\n      <th>4</th>\n      <td>2016-01-11 00:00:00</td>\n      <td>WLTW</td>\n      <td>117.010002</td>\n      <td>114.970001</td>\n      <td>114.089996</td>\n      <td>117.330002</td>\n      <td>1408600.0</td>\n    </tr>\n  </tbody>\n</table>\n</div>"
     },
     "metadata": {},
     "execution_count": 89
    }
   ],
   "source": [
    "stx = pd.read_csv('data/prices.csv')\n",
    "stx.head()"
   ]
  },
  {
   "cell_type": "code",
   "execution_count": 90,
   "metadata": {},
   "outputs": [
    {
     "output_type": "execute_result",
     "data": {
      "text/plain": "Index(['date', 'symbol', 'open', 'close', 'low', 'high', 'volume'], dtype='object')"
     },
     "metadata": {},
     "execution_count": 90
    }
   ],
   "source": [
    "\n",
    "stx.keys()"
   ]
  },
  {
   "cell_type": "code",
   "execution_count": 91,
   "metadata": {},
   "outputs": [
    {
     "output_type": "execute_result",
     "data": {
      "text/plain": "                open          close            low           high  \\\ncount  851264.000000  851264.000000  851264.000000  851264.000000   \nmean       70.836986      70.857109      70.118414      71.543476   \nstd        83.695876      83.689686      82.877294      84.465504   \nmin         0.850000       0.860000       0.830000       0.880000   \n25%        33.840000      33.849998      33.480000      34.189999   \n50%        52.770000      52.799999      52.230000      53.310001   \n75%        79.879997      79.889999      79.110001      80.610001   \nmax      1584.439941    1578.130005    1549.939941    1600.930054   \n\n             volume  \ncount  8.512640e+05  \nmean   5.415113e+06  \nstd    1.249468e+07  \nmin    0.000000e+00  \n25%    1.221500e+06  \n50%    2.476250e+06  \n75%    5.222500e+06  \nmax    8.596434e+08  ",
      "text/html": "<div>\n<style scoped>\n    .dataframe tbody tr th:only-of-type {\n        vertical-align: middle;\n    }\n\n    .dataframe tbody tr th {\n        vertical-align: top;\n    }\n\n    .dataframe thead th {\n        text-align: right;\n    }\n</style>\n<table border=\"1\" class=\"dataframe\">\n  <thead>\n    <tr style=\"text-align: right;\">\n      <th></th>\n      <th>open</th>\n      <th>close</th>\n      <th>low</th>\n      <th>high</th>\n      <th>volume</th>\n    </tr>\n  </thead>\n  <tbody>\n    <tr>\n      <th>count</th>\n      <td>851264.000000</td>\n      <td>851264.000000</td>\n      <td>851264.000000</td>\n      <td>851264.000000</td>\n      <td>8.512640e+05</td>\n    </tr>\n    <tr>\n      <th>mean</th>\n      <td>70.836986</td>\n      <td>70.857109</td>\n      <td>70.118414</td>\n      <td>71.543476</td>\n      <td>5.415113e+06</td>\n    </tr>\n    <tr>\n      <th>std</th>\n      <td>83.695876</td>\n      <td>83.689686</td>\n      <td>82.877294</td>\n      <td>84.465504</td>\n      <td>1.249468e+07</td>\n    </tr>\n    <tr>\n      <th>min</th>\n      <td>0.850000</td>\n      <td>0.860000</td>\n      <td>0.830000</td>\n      <td>0.880000</td>\n      <td>0.000000e+00</td>\n    </tr>\n    <tr>\n      <th>25%</th>\n      <td>33.840000</td>\n      <td>33.849998</td>\n      <td>33.480000</td>\n      <td>34.189999</td>\n      <td>1.221500e+06</td>\n    </tr>\n    <tr>\n      <th>50%</th>\n      <td>52.770000</td>\n      <td>52.799999</td>\n      <td>52.230000</td>\n      <td>53.310001</td>\n      <td>2.476250e+06</td>\n    </tr>\n    <tr>\n      <th>75%</th>\n      <td>79.879997</td>\n      <td>79.889999</td>\n      <td>79.110001</td>\n      <td>80.610001</td>\n      <td>5.222500e+06</td>\n    </tr>\n    <tr>\n      <th>max</th>\n      <td>1584.439941</td>\n      <td>1578.130005</td>\n      <td>1549.939941</td>\n      <td>1600.930054</td>\n      <td>8.596434e+08</td>\n    </tr>\n  </tbody>\n</table>\n</div>"
     },
     "metadata": {},
     "execution_count": 91
    }
   ],
   "source": [
    "stx.describe()"
   ]
  },
  {
   "cell_type": "code",
   "execution_count": 38,
   "metadata": {},
   "outputs": [
    {
     "output_type": "execute_result",
     "data": {
      "text/plain": "0      WLTW\n251       A\n252     AAL\n253     AAP\n254    AAPL\nName: symbol, dtype: object"
     },
     "metadata": {},
     "execution_count": 38
    }
   ],
   "source": []
  },
  {
   "cell_type": "code",
   "execution_count": 100,
   "metadata": {},
   "outputs": [
    {
     "output_type": "execute_result",
     "data": {
      "text/plain": "              date symbol        open       close         low        high  \\\n254     2010-01-04   AAPL  213.429998  214.009998  212.380001  214.499996   \n721     2010-01-05   AAPL  214.599998  214.379993  213.249994  215.589994   \n1189    2010-01-06   AAPL  214.379993  210.969995  210.750004  215.230000   \n1657    2010-01-07   AAPL  211.750000  210.580000  209.050005  212.000006   \n2125    2010-01-08   AAPL  210.299994  211.980005  209.060005  212.000006   \n...            ...    ...         ...         ...         ...         ...   \n848767  2016-12-23   AAPL  115.589996  116.519997  115.589996  116.519997   \n849267  2016-12-27   AAPL  116.519997  117.260002  116.489998  117.800003   \n849767  2016-12-28   AAPL  117.519997  116.760002  116.199997  118.019997   \n850267  2016-12-29   AAPL  116.449997  116.730003  116.400002  117.110001   \n850767  2016-12-30   AAPL  116.650002  115.820000  115.430000  117.199997   \n\n             volume  \n254     123432400.0  \n721     150476200.0  \n1189    138040000.0  \n1657    119282800.0  \n2125    111902700.0  \n...             ...  \n848767   14249500.0  \n849267   18296900.0  \n849767   20905900.0  \n850267   15039500.0  \n850767   30586300.0  \n\n[1762 rows x 7 columns]",
      "text/html": "<div>\n<style scoped>\n    .dataframe tbody tr th:only-of-type {\n        vertical-align: middle;\n    }\n\n    .dataframe tbody tr th {\n        vertical-align: top;\n    }\n\n    .dataframe thead th {\n        text-align: right;\n    }\n</style>\n<table border=\"1\" class=\"dataframe\">\n  <thead>\n    <tr style=\"text-align: right;\">\n      <th></th>\n      <th>date</th>\n      <th>symbol</th>\n      <th>open</th>\n      <th>close</th>\n      <th>low</th>\n      <th>high</th>\n      <th>volume</th>\n    </tr>\n  </thead>\n  <tbody>\n    <tr>\n      <th>254</th>\n      <td>2010-01-04</td>\n      <td>AAPL</td>\n      <td>213.429998</td>\n      <td>214.009998</td>\n      <td>212.380001</td>\n      <td>214.499996</td>\n      <td>123432400.0</td>\n    </tr>\n    <tr>\n      <th>721</th>\n      <td>2010-01-05</td>\n      <td>AAPL</td>\n      <td>214.599998</td>\n      <td>214.379993</td>\n      <td>213.249994</td>\n      <td>215.589994</td>\n      <td>150476200.0</td>\n    </tr>\n    <tr>\n      <th>1189</th>\n      <td>2010-01-06</td>\n      <td>AAPL</td>\n      <td>214.379993</td>\n      <td>210.969995</td>\n      <td>210.750004</td>\n      <td>215.230000</td>\n      <td>138040000.0</td>\n    </tr>\n    <tr>\n      <th>1657</th>\n      <td>2010-01-07</td>\n      <td>AAPL</td>\n      <td>211.750000</td>\n      <td>210.580000</td>\n      <td>209.050005</td>\n      <td>212.000006</td>\n      <td>119282800.0</td>\n    </tr>\n    <tr>\n      <th>2125</th>\n      <td>2010-01-08</td>\n      <td>AAPL</td>\n      <td>210.299994</td>\n      <td>211.980005</td>\n      <td>209.060005</td>\n      <td>212.000006</td>\n      <td>111902700.0</td>\n    </tr>\n    <tr>\n      <th>...</th>\n      <td>...</td>\n      <td>...</td>\n      <td>...</td>\n      <td>...</td>\n      <td>...</td>\n      <td>...</td>\n      <td>...</td>\n    </tr>\n    <tr>\n      <th>848767</th>\n      <td>2016-12-23</td>\n      <td>AAPL</td>\n      <td>115.589996</td>\n      <td>116.519997</td>\n      <td>115.589996</td>\n      <td>116.519997</td>\n      <td>14249500.0</td>\n    </tr>\n    <tr>\n      <th>849267</th>\n      <td>2016-12-27</td>\n      <td>AAPL</td>\n      <td>116.519997</td>\n      <td>117.260002</td>\n      <td>116.489998</td>\n      <td>117.800003</td>\n      <td>18296900.0</td>\n    </tr>\n    <tr>\n      <th>849767</th>\n      <td>2016-12-28</td>\n      <td>AAPL</td>\n      <td>117.519997</td>\n      <td>116.760002</td>\n      <td>116.199997</td>\n      <td>118.019997</td>\n      <td>20905900.0</td>\n    </tr>\n    <tr>\n      <th>850267</th>\n      <td>2016-12-29</td>\n      <td>AAPL</td>\n      <td>116.449997</td>\n      <td>116.730003</td>\n      <td>116.400002</td>\n      <td>117.110001</td>\n      <td>15039500.0</td>\n    </tr>\n    <tr>\n      <th>850767</th>\n      <td>2016-12-30</td>\n      <td>AAPL</td>\n      <td>116.650002</td>\n      <td>115.820000</td>\n      <td>115.430000</td>\n      <td>117.199997</td>\n      <td>30586300.0</td>\n    </tr>\n  </tbody>\n</table>\n<p>1762 rows × 7 columns</p>\n</div>"
     },
     "metadata": {},
     "execution_count": 100
    }
   ],
   "source": [
    "start = dt.datetime(2016, 1, 1)\n",
    "end = dt.datetime(2016, 1, 5)\n",
    "\n",
    "AAPL = stx.loc[stx[\"symbol\"] == 'AAPL'].groupby([\"date\"])\n",
    "AAPL\n",
    "\n"
   ]
  },
  {
   "cell_type": "code",
   "execution_count": null,
   "metadata": {},
   "outputs": [],
   "source": []
  }
 ],
 "metadata": {
  "language_info": {
   "codemirror_mode": {
    "name": "ipython",
    "version": 3
   },
   "file_extension": ".py",
   "mimetype": "text/x-python",
   "name": "python",
   "nbconvert_exporter": "python",
   "pygments_lexer": "ipython3",
   "version": "3.8.2-final"
  },
  "orig_nbformat": 2,
  "kernelspec": {
   "name": "python38264bit7107e305d850435abc03a322598ad67e",
   "display_name": "Python 3.8.2 64-bit"
  }
 },
 "nbformat": 4,
 "nbformat_minor": 2
}